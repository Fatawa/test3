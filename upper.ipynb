{
 "cells": [
  {
   "cell_type": "code",
   "execution_count": 1,
   "metadata": {},
   "outputs": [],
   "source": [
    "import os"
   ]
  },
  {
   "cell_type": "code",
   "execution_count": 2,
   "metadata": {},
   "outputs": [],
   "source": [
    "def get_people_universe(place):\n",
    "    people = os.listdir(place)\n",
    "    return people"
   ]
  },
  {
   "cell_type": "code",
   "execution_count": 3,
   "metadata": {},
   "outputs": [
    {
     "data": {
      "text/plain": [
       "['Adam Sandler.jpg',\n",
       " 'Angelina Julie.png',\n",
       " 'Ariana Grande.jpeg',\n",
       " 'Ben Affleck.jpg',\n",
       " 'Ben Stiller.jpg',\n",
       " 'Bill Gates.jpg',\n",
       " 'Brad Pitt.jpg',\n",
       " 'Britney Spears.jpg',\n",
       " 'Bruce Lee.jpg',\n",
       " 'Cameron Diaz.jpg',\n",
       " 'Dwayne Johnson.jpg',\n",
       " 'Elon Musk.jpg',\n",
       " 'Elton John.jpg',\n",
       " 'Jack Black.jpg',\n",
       " 'Jamie Foxx.jpg',\n",
       " 'Jason Segel.jpg',\n",
       " 'Jason Statham.jpg',\n",
       " 'Jeff Bezos.jpg',\n",
       " 'Jennifer Aniston.jpg',\n",
       " 'Jennifer Lopez.jpg',\n",
       " 'Jerry Seinfeld.jpg',\n",
       " 'John Cena.jpg',\n",
       " 'Johnny Depp.jpg',\n",
       " 'Josh Radnor.jpg',\n",
       " 'Julia Roberts.jpg',\n",
       " 'Justin Timberlake.jpg',\n",
       " 'Kate Upton.jpg',\n",
       " 'Keanu Reeves.jpg',\n",
       " 'Kevin Hart.jpg',\n",
       " 'Madonna.jpg',\n",
       " 'Mark Ruffalo.jpg',\n",
       " 'Mark Zuckerberg.jpg',\n",
       " 'Matt Damon.jpg',\n",
       " 'Michael Jackson.jpg',\n",
       " 'Michael Jordan.jpg',\n",
       " 'Mindy Kaling.jpg',\n",
       " 'Neil Patrick Harris.jpg',\n",
       " 'Nick Jonas.jpg',\n",
       " 'Nicole Kidman.jpg',\n",
       " 'Paul Rudd.jpg',\n",
       " 'Robin Williams.jpg',\n",
       " 'Steve Jobs.jpg',\n",
       " 'Sylvester Stallone.jpg',\n",
       " 'Will Ferrell.jpg',\n",
       " 'Will Smith.jpg']"
      ]
     },
     "execution_count": 3,
     "metadata": {},
     "output_type": "execute_result"
    }
   ],
   "source": [
    "universe = get_people_universe(\"parallel_universe\")\n",
    "universe"
   ]
  },
  {
   "cell_type": "code",
   "execution_count": 4,
   "metadata": {},
   "outputs": [
    {
     "name": "stdout",
     "output_type": "stream",
     "text": [
      "ADAM SANDLER.JPG\n",
      "ANGELINA JULIE.PNG\n",
      "ARIANA GRANDE.JPEG\n",
      "BEN AFFLECK.JPG\n",
      "BEN STILLER.JPG\n",
      "BILL GATES.JPG\n",
      "BRAD PITT.JPG\n",
      "BRITNEY SPEARS.JPG\n",
      "BRUCE LEE.JPG\n",
      "CAMERON DIAZ.JPG\n",
      "DWAYNE JOHNSON.JPG\n",
      "ELON MUSK.JPG\n",
      "ELTON JOHN.JPG\n",
      "JACK BLACK.JPG\n",
      "JAMIE FOXX.JPG\n",
      "JASON SEGEL.JPG\n",
      "JASON STATHAM.JPG\n",
      "JEFF BEZOS.JPG\n",
      "JENNIFER ANISTON.JPG\n",
      "JENNIFER LOPEZ.JPG\n",
      "JERRY SEINFELD.JPG\n",
      "JOHN CENA.JPG\n",
      "JOHNNY DEPP.JPG\n",
      "JOSH RADNOR.JPG\n",
      "JULIA ROBERTS.JPG\n",
      "JUSTIN TIMBERLAKE.JPG\n",
      "KATE UPTON.JPG\n",
      "KEANU REEVES.JPG\n",
      "KEVIN HART.JPG\n",
      "MADONNA.JPG\n",
      "MARK RUFFALO.JPG\n",
      "MARK ZUCKERBERG.JPG\n",
      "MATT DAMON.JPG\n",
      "MICHAEL JACKSON.JPG\n",
      "MICHAEL JORDAN.JPG\n",
      "MINDY KALING.JPG\n",
      "NEIL PATRICK HARRIS.JPG\n",
      "NICK JONAS.JPG\n",
      "NICOLE KIDMAN.JPG\n",
      "PAUL RUDD.JPG\n",
      "ROBIN WILLIAMS.JPG\n",
      "STEVE JOBS.JPG\n",
      "SYLVESTER STALLONE.JPG\n",
      "WILL FERRELL.JPG\n",
      "WILL SMITH.JPG\n"
     ]
    }
   ],
   "source": [
    "for i in universe:\n",
    "    new_universe = i.upper()\n",
    "    print(new_universe)"
   ]
  },
  {
   "cell_type": "code",
   "execution_count": null,
   "metadata": {},
   "outputs": [],
   "source": []
  }
 ],
 "metadata": {
  "interpreter": {
   "hash": "a2806886db0f30853b44e5a9a4374c57623671507e76dbfb7ea8030a9318ff25"
  },
  "kernelspec": {
   "display_name": "Python 3.9.10 64-bit (windows store)",
   "language": "python",
   "name": "python3"
  },
  "language_info": {
   "codemirror_mode": {
    "name": "ipython",
    "version": 3
   },
   "file_extension": ".py",
   "mimetype": "text/x-python",
   "name": "python",
   "nbconvert_exporter": "python",
   "pygments_lexer": "ipython3",
   "version": "3.9.10"
  },
  "orig_nbformat": 4
 },
 "nbformat": 4,
 "nbformat_minor": 2
}
